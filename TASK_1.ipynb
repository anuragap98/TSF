{
  "nbformat": 4,
  "nbformat_minor": 0,
  "metadata": {
    "colab": {
      "name": "TASK 1.ipynb",
      "provenance": [],
      "collapsed_sections": [
        "rf9TFG1IUbFf",
        "NrAUQycDWXPg",
        "tVxpN2JBZWQt",
        "OyrhrTLGZzuy",
        "9tP69HG9dSC2",
        "iHUAiV7sfb_D"
      ]
    },
    "kernelspec": {
      "name": "python3",
      "display_name": "Python 3"
    }
  },
  "cells": [
    {
      "cell_type": "markdown",
      "metadata": {
        "id": "oOLeTIuNUZSZ"
      },
      "source": [
        "# - ***By Anurag Porte***\r\n",
        "---\r\n",
        "\r\n",
        "# **GRIP  - The Sparks Foundation**\r\n",
        "## **Data Science and Business Analytics Intern**\r\n",
        "\r\n",
        "### TASK 1 : Prediction using Supervised ML\r\n",
        "- Predict the percentage of an student based on the no. of study hours.\r\n",
        "- **P.S. - What will be predicted score if a student studies for 9.25 hrs/ day?**\r\n",
        "\r\n",
        "**Dataset source** - http://bit.ly/w-data\r\n",
        "\r\n"
      ]
    },
    {
      "cell_type": "markdown",
      "metadata": {
        "id": "rf9TFG1IUbFf"
      },
      "source": [
        "#### **Importing necessary modules and data**"
      ]
    },
    {
      "cell_type": "code",
      "metadata": {
        "id": "V_lf7mreIkXq"
      },
      "source": [
        "import numpy as np\n",
        "import matplotlib.pyplot as plt\n",
        "import pandas as pd"
      ],
      "execution_count": 1,
      "outputs": []
    },
    {
      "cell_type": "code",
      "metadata": {
        "id": "AOnxejRdI-xZ",
        "colab": {
          "base_uri": "https://localhost:8080/",
          "height": 780
        },
        "outputId": "522cfe0a-49cc-4393-ca12-d593ac07e513"
      },
      "source": [
        "data = pd.read_csv('student_scores.csv')\r\n",
        "data"
      ],
      "execution_count": 4,
      "outputs": [
        {
          "output_type": "execute_result",
          "data": {
            "text/html": [
              "<div>\n",
              "<style scoped>\n",
              "    .dataframe tbody tr th:only-of-type {\n",
              "        vertical-align: middle;\n",
              "    }\n",
              "\n",
              "    .dataframe tbody tr th {\n",
              "        vertical-align: top;\n",
              "    }\n",
              "\n",
              "    .dataframe thead th {\n",
              "        text-align: right;\n",
              "    }\n",
              "</style>\n",
              "<table border=\"1\" class=\"dataframe\">\n",
              "  <thead>\n",
              "    <tr style=\"text-align: right;\">\n",
              "      <th></th>\n",
              "      <th>Hours</th>\n",
              "      <th>Scores</th>\n",
              "    </tr>\n",
              "  </thead>\n",
              "  <tbody>\n",
              "    <tr>\n",
              "      <th>0</th>\n",
              "      <td>2.5</td>\n",
              "      <td>21</td>\n",
              "    </tr>\n",
              "    <tr>\n",
              "      <th>1</th>\n",
              "      <td>5.1</td>\n",
              "      <td>47</td>\n",
              "    </tr>\n",
              "    <tr>\n",
              "      <th>2</th>\n",
              "      <td>3.2</td>\n",
              "      <td>27</td>\n",
              "    </tr>\n",
              "    <tr>\n",
              "      <th>3</th>\n",
              "      <td>8.5</td>\n",
              "      <td>75</td>\n",
              "    </tr>\n",
              "    <tr>\n",
              "      <th>4</th>\n",
              "      <td>3.5</td>\n",
              "      <td>30</td>\n",
              "    </tr>\n",
              "    <tr>\n",
              "      <th>5</th>\n",
              "      <td>1.5</td>\n",
              "      <td>20</td>\n",
              "    </tr>\n",
              "    <tr>\n",
              "      <th>6</th>\n",
              "      <td>9.2</td>\n",
              "      <td>88</td>\n",
              "    </tr>\n",
              "    <tr>\n",
              "      <th>7</th>\n",
              "      <td>5.5</td>\n",
              "      <td>60</td>\n",
              "    </tr>\n",
              "    <tr>\n",
              "      <th>8</th>\n",
              "      <td>8.3</td>\n",
              "      <td>81</td>\n",
              "    </tr>\n",
              "    <tr>\n",
              "      <th>9</th>\n",
              "      <td>2.7</td>\n",
              "      <td>25</td>\n",
              "    </tr>\n",
              "    <tr>\n",
              "      <th>10</th>\n",
              "      <td>7.7</td>\n",
              "      <td>85</td>\n",
              "    </tr>\n",
              "    <tr>\n",
              "      <th>11</th>\n",
              "      <td>5.9</td>\n",
              "      <td>62</td>\n",
              "    </tr>\n",
              "    <tr>\n",
              "      <th>12</th>\n",
              "      <td>4.5</td>\n",
              "      <td>41</td>\n",
              "    </tr>\n",
              "    <tr>\n",
              "      <th>13</th>\n",
              "      <td>3.3</td>\n",
              "      <td>42</td>\n",
              "    </tr>\n",
              "    <tr>\n",
              "      <th>14</th>\n",
              "      <td>1.1</td>\n",
              "      <td>17</td>\n",
              "    </tr>\n",
              "    <tr>\n",
              "      <th>15</th>\n",
              "      <td>8.9</td>\n",
              "      <td>95</td>\n",
              "    </tr>\n",
              "    <tr>\n",
              "      <th>16</th>\n",
              "      <td>2.5</td>\n",
              "      <td>30</td>\n",
              "    </tr>\n",
              "    <tr>\n",
              "      <th>17</th>\n",
              "      <td>1.9</td>\n",
              "      <td>24</td>\n",
              "    </tr>\n",
              "    <tr>\n",
              "      <th>18</th>\n",
              "      <td>6.1</td>\n",
              "      <td>67</td>\n",
              "    </tr>\n",
              "    <tr>\n",
              "      <th>19</th>\n",
              "      <td>7.4</td>\n",
              "      <td>69</td>\n",
              "    </tr>\n",
              "    <tr>\n",
              "      <th>20</th>\n",
              "      <td>2.7</td>\n",
              "      <td>30</td>\n",
              "    </tr>\n",
              "    <tr>\n",
              "      <th>21</th>\n",
              "      <td>4.8</td>\n",
              "      <td>54</td>\n",
              "    </tr>\n",
              "    <tr>\n",
              "      <th>22</th>\n",
              "      <td>3.8</td>\n",
              "      <td>35</td>\n",
              "    </tr>\n",
              "    <tr>\n",
              "      <th>23</th>\n",
              "      <td>6.9</td>\n",
              "      <td>76</td>\n",
              "    </tr>\n",
              "    <tr>\n",
              "      <th>24</th>\n",
              "      <td>7.8</td>\n",
              "      <td>86</td>\n",
              "    </tr>\n",
              "  </tbody>\n",
              "</table>\n",
              "</div>"
            ],
            "text/plain": [
              "    Hours  Scores\n",
              "0     2.5      21\n",
              "1     5.1      47\n",
              "2     3.2      27\n",
              "3     8.5      75\n",
              "4     3.5      30\n",
              "5     1.5      20\n",
              "6     9.2      88\n",
              "7     5.5      60\n",
              "8     8.3      81\n",
              "9     2.7      25\n",
              "10    7.7      85\n",
              "11    5.9      62\n",
              "12    4.5      41\n",
              "13    3.3      42\n",
              "14    1.1      17\n",
              "15    8.9      95\n",
              "16    2.5      30\n",
              "17    1.9      24\n",
              "18    6.1      67\n",
              "19    7.4      69\n",
              "20    2.7      30\n",
              "21    4.8      54\n",
              "22    3.8      35\n",
              "23    6.9      76\n",
              "24    7.8      86"
            ]
          },
          "metadata": {
            "tags": []
          },
          "execution_count": 4
        }
      ]
    },
    {
      "cell_type": "code",
      "metadata": {
        "colab": {
          "base_uri": "https://localhost:8080/"
        },
        "id": "BahH4YbMV-Xl",
        "outputId": "ae42002b-3818-4b3b-c50a-8be519b09a76"
      },
      "source": [
        "data.shape"
      ],
      "execution_count": 3,
      "outputs": [
        {
          "output_type": "execute_result",
          "data": {
            "text/plain": [
              "(25, 2)"
            ]
          },
          "metadata": {
            "tags": []
          },
          "execution_count": 3
        }
      ]
    },
    {
      "cell_type": "markdown",
      "metadata": {
        "id": "NrAUQycDWXPg"
      },
      "source": [
        "#### **Visualising the data**"
      ]
    },
    {
      "cell_type": "code",
      "metadata": {
        "colab": {
          "base_uri": "https://localhost:8080/",
          "height": 331
        },
        "id": "2eljBPqXWktT",
        "outputId": "b3b97df6-060c-4a5e-b136-6689a804a22f"
      },
      "source": [
        "plt.figure()\r\n",
        "data.plot(x='Hours', y='Scores', style='o')\r\n",
        "plt.xlabel('No. of Studies Hours')\r\n",
        "plt.ylabel('Percentage Scores')\r\n",
        "plt.title('Percentage Scores vs Hours')\r\n",
        "plt.show"
      ],
      "execution_count": 10,
      "outputs": [
        {
          "output_type": "execute_result",
          "data": {
            "text/plain": [
              "<function matplotlib.pyplot.show>"
            ]
          },
          "metadata": {
            "tags": []
          },
          "execution_count": 10
        },
        {
          "output_type": "display_data",
          "data": {
            "text/plain": [
              "<Figure size 432x288 with 0 Axes>"
            ]
          },
          "metadata": {
            "tags": []
          }
        },
        {
          "output_type": "display_data",
          "data": {
            "image/png": "[encoded data removed]",
            "text/plain": [
              "<Figure size 432x288 with 1 Axes>"
            ]
          },
          "metadata": {
            "tags": [],
            "needs_background": "light"
          }
        }
      ]
    },
    {
      "cell_type": "markdown",
      "metadata": {
        "id": "HOKgDGlQYOWn"
      },
      "source": [
        "`From the above plot, we can say that there is a strong linear correlation between the given 2 features and making our P.S. an Linear Regression problem.`"
      ]
    },
    {
      "cell_type": "markdown",
      "metadata": {
        "id": "tVxpN2JBZWQt"
      },
      "source": [
        "#### **Preparation of Data**\r\n",
        "\r\n",
        "Here, we separated features and labels and split the dataset into train and test data using Scikit-learn: `train_test_split() method` in the ratio - 80:20"
      ]
    },
    {
      "cell_type": "code",
      "metadata": {
        "id": "VL1L721q6z-3"
      },
      "source": [
        "X = data.iloc[:, 0]\n",
        "y = data.iloc[:, 1]"
      ],
      "execution_count": 11,
      "outputs": []
    },
    {
      "cell_type": "code",
      "metadata": {
        "id": "v6XH_da37lIt"
      },
      "source": [
        "from sklearn.model_selection import train_test_split\r\n",
        "\r\n",
        "X_train, X_test, y_train, y_test = train_test_split(X,y, test_size=0.2, random_state=0)"
      ],
      "execution_count": 14,
      "outputs": []
    },
    {
      "cell_type": "markdown",
      "metadata": {
        "id": "OyrhrTLGZzuy"
      },
      "source": [
        "#### **Training of Model**"
      ]
    },
    {
      "cell_type": "code",
      "metadata": {
        "id": "CWsKApf38Ih1"
      },
      "source": [
        "from sklearn.linear_model import LinearRegression\n",
        "linear_regressor = LinearRegression()"
      ],
      "execution_count": 27,
      "outputs": []
    },
    {
      "cell_type": "code",
      "metadata": {
        "colab": {
          "base_uri": "https://localhost:8080/"
        },
        "id": "HVFVc5lc82Mf",
        "outputId": "99c9b7f7-ed3d-49eb-b069-3b4a5aff221d"
      },
      "source": [
        "linear_regressor.fit(X_train.values.reshape(-1, 1), y_train.values.reshape(-1, 1))"
      ],
      "execution_count": 28,
      "outputs": [
        {
          "output_type": "execute_result",
          "data": {
            "text/plain": [
              "LinearRegression(copy_X=True, fit_intercept=True, n_jobs=None, normalize=False)"
            ]
          },
          "metadata": {
            "tags": []
          },
          "execution_count": 28
        }
      ]
    },
    {
      "cell_type": "code",
      "metadata": {
        "colab": {
          "base_uri": "https://localhost:8080/",
          "height": 265
        },
        "id": "lTFHaDhNA3rK",
        "outputId": "c0fd08ba-3238-4ab2-8e81-1631bb79fc74"
      },
      "source": [
        "# Plotting the regression line using above trained model\n",
        "plt.figure()\n",
        "plt.scatter(X_train, y_train, color='red')\n",
        "plt.plot(X_train, linear_regressor.predict(X_train.values.reshape(-1,1)), color='blue')\n",
        "plt.show()"
      ],
      "execution_count": 31,
      "outputs": [
        {
          "output_type": "display_data",
          "data": {
            "image/png": "[encoded data removed]",
            "text/plain": [
              "<Figure size 432x288 with 1 Axes>"
            ]
          },
          "metadata": {
            "tags": [],
            "needs_background": "light"
          }
        }
      ]
    },
    {
      "cell_type": "markdown",
      "metadata": {
        "id": "9tP69HG9dSC2"
      },
      "source": [
        "#### **Evaluation of Model and Prediction**"
      ]
    },
    {
      "cell_type": "code",
      "metadata": {
        "id": "5vO53kmb9qHq",
        "colab": {
          "base_uri": "https://localhost:8080/"
        },
        "outputId": "3243f996-1a7b-4ab1-be19-49e98aa507e2"
      },
      "source": [
        "# Prediction on test data\r\n",
        "\r\n",
        "y_pred = linear_regressor.predict(X_test.values.reshape(-1, 1))\r\n",
        "y_pred"
      ],
      "execution_count": 33,
      "outputs": [
        {
          "output_type": "execute_result",
          "data": {
            "text/plain": [
              "array([[16.88414476],\n",
              "       [33.73226078],\n",
              "       [75.357018  ],\n",
              "       [26.79480124],\n",
              "       [60.49103328]])"
            ]
          },
          "metadata": {
            "tags": []
          },
          "execution_count": 33
        }
      ]
    },
    {
      "cell_type": "code",
      "metadata": {
        "colab": {
          "base_uri": "https://localhost:8080/",
          "height": 265
        },
        "id": "4txIUHeFDXVx",
        "outputId": "c8f9c1c0-94cc-40ce-a5be-cbe5ae325180"
      },
      "source": [
        "# Plotting the regression line using predicted data\n",
        "plt.figure()\n",
        "plt.scatter(X_test, y_test, color='red')\n",
        "plt.plot(X_test, linear_regressor.predict(X_test.values.reshape(-1,1)), color='blue')\n",
        "plt.show()"
      ],
      "execution_count": 34,
      "outputs": [
        {
          "output_type": "display_data",
          "data": {
            "image/png": "[encoded data removed]",
            "text/plain": [
              "<Figure size 432x288 with 1 Axes>"
            ]
          },
          "metadata": {
            "tags": [],
            "needs_background": "light"
          }
        }
      ]
    },
    {
      "cell_type": "markdown",
      "metadata": {
        "id": "L6d_0FCHeAT0"
      },
      "source": [
        "As we are dealing with numerical values, for Linear Regression like problem we use Mean-Absolute Error as our evaluation metrics."
      ]
    },
    {
      "cell_type": "code",
      "metadata": {
        "id": "GFcSP-kgDiPT",
        "colab": {
          "base_uri": "https://localhost:8080/"
        },
        "outputId": "ef31683c-63dd-4c68-c4dd-d8e331112a76"
      },
      "source": [
        "#model evaluation\r\n",
        "from sklearn.metrics import mean_absolute_error\r\n",
        "MAE = mean_absolute_error(y_test, y_pred)\r\n",
        "print('The Mean Absolute Error of our model:', MAE)"
      ],
      "execution_count": 36,
      "outputs": [
        {
          "output_type": "stream",
          "text": [
            "The Mean Absolute Error of our model: 4.183859899002982\n"
          ],
          "name": "stdout"
        }
      ]
    },
    {
      "cell_type": "markdown",
      "metadata": {
        "id": "iHUAiV7sfb_D"
      },
      "source": [
        "#### **What will be predicted score if a student studies for 9.25 hrs/ day?**"
      ]
    },
    {
      "cell_type": "code",
      "metadata": {
        "colab": {
          "base_uri": "https://localhost:8080/"
        },
        "id": "NuEBdMCvAhhu",
        "outputId": "4eb46b5f-249c-4207-ff05-4e11380b861e"
      },
      "source": [
        "hrs = np.array(9.25)\r\n",
        "pred = linear_regressor.predict(hrs.reshape(1, -1))\r\n",
        "print('For the 9.25 hrs/day of studies, we can expect an score of {}'.format(pred))"
      ],
      "execution_count": 39,
      "outputs": [
        {
          "output_type": "stream",
          "text": [
            "For the 9.25 hrs/day of studies, we can expect an score of [[93.69173249]]\n"
          ],
          "name": "stdout"
        }
      ]
    },
    {
      "cell_type": "markdown",
      "metadata": {
        "id": "EZD96opSgzoL"
      },
      "source": [
        "#### **Conclusion : After successfully training of model and making prediction, we can say that if a student studies for 9.25 hrs/day, he can expect to be score 93.69.**"
      ]
    }
  ]
}